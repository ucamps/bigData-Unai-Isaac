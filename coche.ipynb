{
 "cells": [
  {
   "cell_type": "code",
   "execution_count": null,
   "id": "62b0c335",
   "metadata": {},
   "outputs": [],
   "source": [
    "%matplotlib inline\n",
    "\n",
    "import numpy as np\n",
    "import pandas as pd\n",
    "import matplotlib.pyplot as plt\n",
    "CanadaSale=pd.read_csv('csv/Canadasalesdata.csv')\n",
    "Car_sales=pd.read_csv('csv/Car_sales.csv')\n",
    "Car_segunda=pd.read_csv('csv/coches-de-segunda-mano-sample.csv')"
   ]
  },
  {
   "cell_type": "code",
   "execution_count": null,
   "id": "4f70b146",
   "metadata": {
    "scrolled": true
   },
   "outputs": [],
   "source": [
    "CanadaSale.sort_values(by=['Model'])"
   ]
  },
  {
   "cell_type": "code",
   "execution_count": null,
   "id": "07bea852",
   "metadata": {},
   "outputs": [],
   "source": [
    "Car_sales.sort_values(by=['Model'])"
   ]
  },
  {
   "cell_type": "code",
   "execution_count": null,
   "id": "90bf1ac2",
   "metadata": {},
   "outputs": [],
   "source": [
    "Car_segunda.sort_values(by=['make'])\n",
    "Car_segunda.drop(['company','url'], axis=1)"
   ]
  },
  {
   "cell_type": "code",
   "execution_count": null,
   "id": "a2356cca",
   "metadata": {
    "scrolled": true
   },
   "outputs": [],
   "source": []
  },
  {
   "cell_type": "code",
   "execution_count": null,
   "id": "72218857",
   "metadata": {
    "scrolled": true
   },
   "outputs": [],
   "source": [
    "Car_segunda.plot(kind='hist', y='power')\n",
    "plt.show()"
   ]
  },
  {
   "cell_type": "code",
   "execution_count": null,
   "id": "1b4943ed",
   "metadata": {
    "scrolled": true
   },
   "outputs": [],
   "source": []
  },
  {
   "cell_type": "code",
   "execution_count": null,
   "id": "abc009a9",
   "metadata": {
    "scrolled": true
   },
   "outputs": [],
   "source": [
    "Car_sales.plot(kind='scatter', y='Manufacturer',x='Engine_size')"
   ]
  },
  {
   "cell_type": "code",
   "execution_count": null,
   "id": "5b0c87a6",
   "metadata": {
    "scrolled": true
   },
   "outputs": [],
   "source": []
  },
  {
   "cell_type": "code",
   "execution_count": null,
   "id": "7b99c7b9",
   "metadata": {
    "scrolled": true
   },
   "outputs": [],
   "source": [
    "Car_sales.plot.box(y='Fuel_efficiency')"
   ]
  },
  {
   "cell_type": "code",
   "execution_count": null,
   "id": "80832d0b",
   "metadata": {
    "scrolled": true
   },
   "outputs": [],
   "source": []
  },
  {
   "cell_type": "code",
   "execution_count": null,
   "id": "fa180fb3",
   "metadata": {},
   "outputs": [],
   "source": [
    "Car_sales.plot(y=['Fuel_capacity','Fuel_efficiency'], x='Model')"
   ]
  },
  {
   "cell_type": "code",
   "execution_count": null,
   "id": "95abf4cf",
   "metadata": {},
   "outputs": [],
   "source": []
  },
  {
   "cell_type": "code",
   "execution_count": null,
   "id": "5a55486b",
   "metadata": {},
   "outputs": [],
   "source": [
    "CanadaSale.plot(y=['Jan','Feb','Mar','Apr'], \n",
    "             subplots=True, layout=(2,2), figsize=(10,5))\n",
    "plt.show()"
   ]
  },
  {
   "cell_type": "code",
   "execution_count": null,
   "id": "ff601980",
   "metadata": {},
   "outputs": [],
   "source": []
  },
  {
   "cell_type": "code",
   "execution_count": null,
   "id": "9469eb62",
   "metadata": {},
   "outputs": [],
   "source": [
    "CanadaSale.plot(y=['May','Jun','Jul','Aug'], x='Model')\n",
    "plt.show()"
   ]
  },
  {
   "cell_type": "code",
   "execution_count": null,
   "id": "29f10b55",
   "metadata": {},
   "outputs": [],
   "source": []
  }
 ],
 "metadata": {
  "kernelspec": {
   "display_name": "Python 3 (ipykernel)",
   "language": "python",
   "name": "python3"
  },
  "language_info": {
   "codemirror_mode": {
    "name": "ipython",
    "version": 3
   },
   "file_extension": ".py",
   "mimetype": "text/x-python",
   "name": "python",
   "nbconvert_exporter": "python",
   "pygments_lexer": "ipython3",
   "version": "3.8.0"
  }
 },
 "nbformat": 4,
 "nbformat_minor": 5
}
